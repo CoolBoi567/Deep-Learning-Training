{
 "cells": [
  {
   "cell_type": "code",
   "execution_count": 35,
   "metadata": {
    "colab": {
     "autoexec": {
      "startup": false,
      "wait_interval": 0
     },
     "base_uri": "https://localhost:8080/",
     "height": 153
    },
    "colab_type": "code",
    "collapsed": false,
    "executionInfo": {
     "elapsed": 2983,
     "status": "ok",
     "timestamp": 1529949548640,
     "user": {
      "displayName": "Abraar Syed",
      "photoUrl": "//lh5.googleusercontent.com/-ocaYyjrX3Z4/AAAAAAAAAAI/AAAAAAAAABQ/cPl8U19wmMg/s50-c-k-no/photo.jpg",
      "userId": "115904709554351828058"
     },
     "user_tz": -330
    },
    "id": "_OYGemBC-b1p",
    "outputId": "5bccfaa9-8f7f-4b1e-83c2-290286251cc3"
   },
   "outputs": [
    {
     "name": "stdout",
     "output_type": "stream",
     "text": [
      "Requirement already satisfied: pydot in /usr/local/lib/python2.7/dist-packages (1.2.4)\r\n",
      "Requirement already satisfied: pyparsing>=2.1.4 in /usr/local/lib/python2.7/dist-packages (from pydot) (2.2.0)\r\n",
      "('IPython version:', '5.5.0')\n",
      "('numpy version:', '1.14.5')\n",
      "('scikit-learn version:', '0.19.1')\n",
      "('matplotlib version:', '2.1.2')\n",
      "('pydot version:', '1.2.4')\n",
      "('pyparsing version:', '2.2.0')\n"
     ]
    }
   ],
   "source": [
    "# Resource: https://github.com/gmonce/scikit-learn-book/blob/master/Chapter%202%20-%20Supervised%20learning%20-%20Explaining%20Titanic%20Hypothesis%20with%20Decision%20Trees.ipynb\n",
    "\n",
    "import IPython\n",
    "import sklearn as sk\n",
    "import numpy as np\n",
    "import matplotlib\n",
    "import matplotlib.pyplot as plt\n",
    "!pip install pydot\n",
    "import pydot\n",
    "import pyparsing\n",
    "\n",
    "print ('IPython version:', IPython.__version__)\n",
    "print ('numpy version:', np.__version__)\n",
    "print ('scikit-learn version:', sk.__version__)\n",
    "print ('matplotlib version:', matplotlib.__version__)\n",
    "print ('pydot version:', pydot.__version__)\n",
    "print ('pyparsing version:', pyparsing.__version__)"
   ]
  },
  {
   "cell_type": "code",
   "execution_count": 37,
   "metadata": {
    "colab": {
     "autoexec": {
      "startup": false,
      "wait_interval": 0
     },
     "base_uri": "https://localhost:8080/",
     "height": 204
    },
    "colab_type": "code",
    "collapsed": false,
    "executionInfo": {
     "elapsed": 2226,
     "status": "ok",
     "timestamp": 1529949564616,
     "user": {
      "displayName": "Abraar Syed",
      "photoUrl": "//lh5.googleusercontent.com/-ocaYyjrX3Z4/AAAAAAAAAAI/AAAAAAAAABQ/cPl8U19wmMg/s50-c-k-no/photo.jpg",
      "userId": "115904709554351828058"
     },
     "user_tz": -330
    },
    "id": "Jba01r0W_WsK",
    "outputId": "4f6566b1-2827-4437-d2b6-ef7a75147535"
   },
   "outputs": [
    {
     "name": "stdout",
     "output_type": "stream",
     "text": [
      "--2018-06-25 17:59:23--  https://play.minio.io:9000/rao/titanic.csv\r\n",
      "Resolving play.minio.io (play.minio.io)... 147.75.201.93\r\n",
      "Connecting to play.minio.io (play.minio.io)|147.75.201.93|:9000... connected.\n",
      "HTTP request sent, awaiting response... 200 OK\n",
      "Length: 115632 (113K) [text/csv]\n",
      "Saving to: ‘/temp/titanic.csv.2’\n",
      "\n",
      "titanic.csv.2       100%[===================>] 112.92K  --.-KB/s    in 0.06s   \n",
      "\n",
      "2018-06-25 17:59:24 (1.90 MB/s) - ‘/temp/titanic.csv.2’ saved [115632/115632]\n",
      "\n"
     ]
    }
   ],
   "source": [
    "import csv\n",
    "import numpy as np\n",
    "\n",
    "!wget https://play.minio.io:9000/rao/titanic.csv -P /temp\n",
    "with open('/temp/titanic.csv', 'rb') as csvfile:\n",
    "    titanic_reader = csv.reader(csvfile, delimiter=',', quotechar='\"')\n",
    "    \n",
    "    # Header contains feature names\n",
    "    row = titanic_reader.next()\n",
    "    feature_names = np.array(row)\n",
    "    \n",
    "    # Load dataset, and target classes\n",
    "    titanic_X, titanic_y = [], []\n",
    "    for row in titanic_reader:  \n",
    "        titanic_X.append(row)\n",
    "        titanic_y.append(row[2]) # The target value is \"survived\"\n",
    "    \n",
    "    titanic_X = np.array(titanic_X)\n",
    "    titanic_y = np.array(titanic_y)"
   ]
  },
  {
   "cell_type": "code",
   "execution_count": 38,
   "metadata": {
    "colab": {
     "autoexec": {
      "startup": false,
      "wait_interval": 0
     },
     "base_uri": "https://localhost:8080/",
     "height": 68
    },
    "colab_type": "code",
    "collapsed": false,
    "executionInfo": {
     "elapsed": 1231,
     "status": "ok",
     "timestamp": 1529949568005,
     "user": {
      "displayName": "Abraar Syed",
      "photoUrl": "//lh5.googleusercontent.com/-ocaYyjrX3Z4/AAAAAAAAAAI/AAAAAAAAABQ/cPl8U19wmMg/s50-c-k-no/photo.jpg",
      "userId": "115904709554351828058"
     },
     "user_tz": -330
    },
    "id": "HUYwrl7hBWqv",
    "outputId": "c6022680-379f-4781-dccf-901bf30a3e61"
   },
   "outputs": [
    {
     "name": "stdout",
     "output_type": "stream",
     "text": [
      "['row.names' 'pclass' 'survived' 'name' 'age' 'embarked' 'home.dest'\n",
      " 'room' 'ticket' 'boat' 'sex'] ['1' '1st' '1' 'Allen, Miss Elisabeth Walton' '29.0000' 'Southampton'\n",
      " 'St Louis, MO' 'B-5' '24160 L221' '2' 'female'] 1\n"
     ]
    }
   ],
   "source": [
    "print feature_names, titanic_X[0], titanic_y[0]"
   ]
  },
  {
   "cell_type": "code",
   "execution_count": 39,
   "metadata": {
    "colab": {
     "autoexec": {
      "startup": false,
      "wait_interval": 0
     },
     "base_uri": "https://localhost:8080/",
     "height": 51
    },
    "colab_type": "code",
    "collapsed": false,
    "executionInfo": {
     "elapsed": 1041,
     "status": "ok",
     "timestamp": 1529949571498,
     "user": {
      "displayName": "Abraar Syed",
      "photoUrl": "//lh5.googleusercontent.com/-ocaYyjrX3Z4/AAAAAAAAAAI/AAAAAAAAABQ/cPl8U19wmMg/s50-c-k-no/photo.jpg",
      "userId": "115904709554351828058"
     },
     "user_tz": -330
    },
    "id": "PhkF1z9UBbaD",
    "outputId": "461ae7c8-080f-420d-8701-37eaba17c82a"
   },
   "outputs": [
    {
     "name": "stdout",
     "output_type": "stream",
     "text": [
      "['pclass' 'age' 'sex']\n",
      "['1st' 'NA' 'female'] 1\n"
     ]
    }
   ],
   "source": [
    "# we keep the class, the age and the sex\n",
    "titanic_X = titanic_X[:, [1, 4, 10]]\n",
    "feature_names = feature_names[[1, 4, 10]]\n",
    "print feature_names\n",
    "print titanic_X[12], titanic_y[12]"
   ]
  },
  {
   "cell_type": "code",
   "execution_count": 40,
   "metadata": {
    "colab": {
     "autoexec": {
      "startup": false,
      "wait_interval": 0
     },
     "base_uri": "https://localhost:8080/",
     "height": 51
    },
    "colab_type": "code",
    "collapsed": false,
    "executionInfo": {
     "elapsed": 1067,
     "status": "ok",
     "timestamp": 1529949575578,
     "user": {
      "displayName": "Abraar Syed",
      "photoUrl": "//lh5.googleusercontent.com/-ocaYyjrX3Z4/AAAAAAAAAAI/AAAAAAAAABQ/cPl8U19wmMg/s50-c-k-no/photo.jpg",
      "userId": "115904709554351828058"
     },
     "user_tz": -330
    },
    "id": "wVERi3k-C1dc",
    "outputId": "7e2a9123-1b72-46e5-87df-39cd1323a1b7"
   },
   "outputs": [
    {
     "name": "stdout",
     "output_type": "stream",
     "text": [
      "['pclass' 'age' 'sex']\n",
      "['1st' '31.19418104265403' 'female'] 1\n"
     ]
    }
   ],
   "source": [
    "ages = titanic_X[:, 1]\n",
    "mean_age = np.mean(titanic_X[ages != 'NA', 1].astype(np.float))\n",
    "titanic_X[titanic_X[:, 1] == 'NA', 1] = mean_age\n",
    "print feature_names\n",
    "print titanic_X[12], titanic_y[12]"
   ]
  },
  {
   "cell_type": "code",
   "execution_count": 41,
   "metadata": {
    "colab": {
     "autoexec": {
      "startup": false,
      "wait_interval": 0
     },
     "base_uri": "https://localhost:8080/",
     "height": 85
    },
    "colab_type": "code",
    "collapsed": false,
    "executionInfo": {
     "elapsed": 1146,
     "status": "ok",
     "timestamp": 1529949578445,
     "user": {
      "displayName": "Abraar Syed",
      "photoUrl": "//lh5.googleusercontent.com/-ocaYyjrX3Z4/AAAAAAAAAAI/AAAAAAAAABQ/cPl8U19wmMg/s50-c-k-no/photo.jpg",
      "userId": "115904709554351828058"
     },
     "user_tz": -330
    },
    "id": "4o_4ZTJFC46K",
    "outputId": "0c87d347-3f62-463f-9f05-6dfeefc854cf"
   },
   "outputs": [
    {
     "name": "stdout",
     "output_type": "stream",
     "text": [
      "Categorical classes: ['female' 'male']\n",
      "Integer classes: [0 1]\n",
      "Feature names: ['pclass' 'age' 'sex']\n",
      "Features for instance number 12: ['1st' '31.19418104265403' '0'] 1\n"
     ]
    }
   ],
   "source": [
    "from sklearn.preprocessing import LabelEncoder\n",
    "enc = LabelEncoder()\n",
    "label_encoder = enc.fit(titanic_X[:, 2])\n",
    "print \"Categorical classes:\", label_encoder.classes_\n",
    "integer_classes = label_encoder.transform(label_encoder.classes_)\n",
    "print \"Integer classes:\", integer_classes\n",
    "t = label_encoder.transform(titanic_X[:, 2])\n",
    "titanic_X[:, 2] = t\n",
    "print 'Feature names:',feature_names\n",
    "print 'Features for instance number 12:',titanic_X[12], titanic_y[12]"
   ]
  },
  {
   "cell_type": "code",
   "execution_count": 42,
   "metadata": {
    "colab": {
     "autoexec": {
      "startup": false,
      "wait_interval": 0
     },
     "base_uri": "https://localhost:8080/",
     "height": 85
    },
    "colab_type": "code",
    "collapsed": false,
    "executionInfo": {
     "elapsed": 964,
     "status": "ok",
     "timestamp": 1529949582261,
     "user": {
      "displayName": "Abraar Syed",
      "photoUrl": "//lh5.googleusercontent.com/-ocaYyjrX3Z4/AAAAAAAAAAI/AAAAAAAAABQ/cPl8U19wmMg/s50-c-k-no/photo.jpg",
      "userId": "115904709554351828058"
     },
     "user_tz": -330
    },
    "id": "kQ4mXYc3DJFZ",
    "outputId": "8c7194f2-1a29-4dac-c8d2-952e68ba400e"
   },
   "outputs": [
    {
     "name": "stdout",
     "output_type": "stream",
     "text": [
      "Categorical classes: ['1st' '2nd' '3rd']\n",
      "Integer classes: [[0]\n",
      " [1]\n",
      " [2]]\n"
     ]
    }
   ],
   "source": [
    "from sklearn.preprocessing import OneHotEncoder\n",
    "\n",
    "enc = LabelEncoder()\n",
    "label_encoder = enc.fit(titanic_X[:, 0])\n",
    "print \"Categorical classes:\", label_encoder.classes_\n",
    "integer_classes = label_encoder.transform(label_encoder.classes_).reshape(3, 1)\n",
    "print \"Integer classes:\", integer_classes\n",
    "enc = OneHotEncoder()\n",
    "one_hot_encoder = enc.fit(integer_classes)\n",
    "# First, convert clases to 0-(N-1) integers using label_encoder\n",
    "num_of_rows = titanic_X.shape[0]\n",
    "t = label_encoder.transform(titanic_X[:, 0]).reshape(num_of_rows, 1)\n",
    "# Second, create a sparse matrix with three columns, each one indicating if the instance belongs to the class\n",
    "new_features = one_hot_encoder.transform(t)\n",
    "# Add the new features to titanix_X\n",
    "titanic_X = np.concatenate([titanic_X, new_features.toarray()], axis = 1)\n",
    "#Eliminate converted columns\n",
    "titanic_X = np.delete(titanic_X, [0], 1)\n",
    "# Update feature names\n",
    "feature_names = ['age', 'sex', 'first_class', 'second_class', 'third_class']\n",
    "# Convert to numerical values\n",
    "titanic_X = titanic_X.astype(float)\n",
    "titanic_y = titanic_y.astype(float)"
   ]
  },
  {
   "cell_type": "code",
   "execution_count": 43,
   "metadata": {
    "colab": {
     "autoexec": {
      "startup": false,
      "wait_interval": 0
     },
     "base_uri": "https://localhost:8080/",
     "height": 51
    },
    "colab_type": "code",
    "collapsed": false,
    "executionInfo": {
     "elapsed": 995,
     "status": "ok",
     "timestamp": 1529949585489,
     "user": {
      "displayName": "Abraar Syed",
      "photoUrl": "//lh5.googleusercontent.com/-ocaYyjrX3Z4/AAAAAAAAAAI/AAAAAAAAABQ/cPl8U19wmMg/s50-c-k-no/photo.jpg",
      "userId": "115904709554351828058"
     },
     "user_tz": -330
    },
    "id": "5sIkGsAoDM7M",
    "outputId": "5664c2fd-8dba-4f48-d382-c001eb38164d"
   },
   "outputs": [
    {
     "name": "stdout",
     "output_type": "stream",
     "text": [
      "New feature names: ['age', 'sex', 'first_class', 'second_class', 'third_class']\n",
      "Values: [29.  0.  1.  0.  0.]\n"
     ]
    }
   ],
   "source": [
    "print 'New feature names:',feature_names\n",
    "print 'Values:',titanic_X[0]"
   ]
  },
  {
   "cell_type": "code",
   "execution_count": 18,
   "metadata": {
    "colab": {
     "autoexec": {
      "startup": false,
      "wait_interval": 0
     },
     "base_uri": "https://localhost:8080/",
     "height": 71
    },
    "colab_type": "code",
    "collapsed": false,
    "executionInfo": {
     "elapsed": 1083,
     "status": "ok",
     "timestamp": 1529948736926,
     "user": {
      "displayName": "Abraar Syed",
      "photoUrl": "//lh5.googleusercontent.com/-ocaYyjrX3Z4/AAAAAAAAAAI/AAAAAAAAABQ/cPl8U19wmMg/s50-c-k-no/photo.jpg",
      "userId": "115904709554351828058"
     },
     "user_tz": -330
    },
    "id": "MrJruJBLDQAL",
    "outputId": "74e8a9f5-c5d8-4c23-eeaa-826d242347aa"
   },
   "outputs": [
    {
     "name": "stderr",
     "output_type": "stream",
     "text": [
      "/usr/local/lib/python2.7/dist-packages/sklearn/cross_validation.py:41: DeprecationWarning: This module was deprecated in version 0.18 in favor of the model_selection module into which all the refactored classes and functions are moved. Also note that the interface of the new CV iterators are different from that of this module. This module will be removed in 0.20.\n",
      "  \"This module will be removed in 0.20.\", DeprecationWarning)\n"
     ]
    }
   ],
   "source": [
    "from sklearn.cross_validation import train_test_split\n",
    "X_train, X_test, y_train, y_test = train_test_split(titanic_X, titanic_y, test_size=0.25, random_state=33)"
   ]
  },
  {
   "cell_type": "code",
   "execution_count": 0,
   "metadata": {
    "colab": {
     "autoexec": {
      "startup": false,
      "wait_interval": 0
     }
    },
    "colab_type": "code",
    "collapsed": true,
    "id": "i3o4ucRGDYbQ"
   },
   "outputs": [],
   "source": [
    "from sklearn import tree\n",
    "clf = tree.DecisionTreeClassifier(criterion='entropy', max_depth=3,min_samples_leaf=5)\n",
    "clf = clf.fit(X_train,y_train)"
   ]
  },
  {
   "cell_type": "code",
   "execution_count": 27,
   "metadata": {
    "colab": {
     "autoexec": {
      "startup": false,
      "wait_interval": 0
     },
     "base_uri": "https://localhost:8080/",
     "height": 3373
    },
    "colab_type": "code",
    "collapsed": false,
    "executionInfo": {
     "elapsed": 18742,
     "status": "ok",
     "timestamp": 1529949325928,
     "user": {
      "displayName": "Abraar Syed",
      "photoUrl": "//lh5.googleusercontent.com/-ocaYyjrX3Z4/AAAAAAAAAAI/AAAAAAAAABQ/cPl8U19wmMg/s50-c-k-no/photo.jpg",
      "userId": "115904709554351828058"
     },
     "user_tz": -330
    },
    "id": "Dew-CeSXDcwF",
    "outputId": "23549455-a43b-47be-b3d7-534e353dc2d1"
   },
   "outputs": [
    {
     "name": "stdout",
     "output_type": "stream",
     "text": [
      "Reading package lists... Done\n",
      "Building dependency tree       \n",
      "Reading state information... Done\n",
      "The following additional packages will be installed:\n",
      "  fontconfig libcairo2 libcdt5 libcgraph6 libdatrie1 libgd3 libgraphite2-3\n",
      "  libgvc6 libgvpr2 libharfbuzz0b libjbig0 libltdl7 libpango-1.0-0\n",
      "  libpangocairo-1.0-0 libpangoft2-1.0-0 libpathplan4 libpixman-1-0\n",
      "  libthai-data libthai0 libtiff5 libwebp6 libxaw7 libxcb-render0 libxcb-shm0\n",
      "  libxmu6 libxpm4 libxt6\n",
      "Suggested packages:\n",
      "  gsfonts graphviz-doc libgd-tools\n",
      "The following NEW packages will be installed:\n",
      "  fontconfig graphviz libcairo2 libcdt5 libcgraph6 libdatrie1 libgd3\n",
      "  libgraphite2-3 libgvc6 libgvpr2 libharfbuzz0b libjbig0 libltdl7\n",
      "  libpango-1.0-0 libpangocairo-1.0-0 libpangoft2-1.0-0 libpathplan4\n",
      "  libpixman-1-0 libthai-data libthai0 libtiff5 libwebp6 libxaw7 libxcb-render0\n",
      "  libxcb-shm0 libxmu6 libxpm4 libxt6\n",
      "0 upgraded, 28 newly installed, 0 to remove and 6 not upgraded.\n",
      "Need to get 4,122 kB of archives.\n",
      "After this operation, 20.6 MB of additional disk space will be used.\n",
      "Get:1 http://archive.ubuntu.com/ubuntu artful/main amd64 fontconfig amd64 2.11.94-0ubuntu2 [177 kB]\n",
      "Get:2 http://archive.ubuntu.com/ubuntu artful/main amd64 libjbig0 amd64 2.1-3.1 [26.6 kB]\n",
      "Get:3 http://archive.ubuntu.com/ubuntu artful/main amd64 libcdt5 amd64 2.38.0-16ubuntu2 [19.5 kB]\n",
      "Get:4 http://archive.ubuntu.com/ubuntu artful/main amd64 libcgraph6 amd64 2.38.0-16ubuntu2 [40.0 kB]\n",
      "Get:5 http://archive.ubuntu.com/ubuntu artful-updates/main amd64 libtiff5 amd64 4.0.8-5ubuntu0.1 [150 kB]\n",
      "Get:6 http://archive.ubuntu.com/ubuntu artful/main amd64 libwebp6 amd64 0.6.0-3 [181 kB]\n",
      "Get:7 http://archive.ubuntu.com/ubuntu artful/main amd64 libxpm4 amd64 1:3.5.12-1 [34.0 kB]\n",
      "Get:8 http://archive.ubuntu.com/ubuntu artful/main amd64 libgd3 amd64 2.2.5-3 [119 kB]\n",
      "Get:9 http://archive.ubuntu.com/ubuntu artful/main amd64 libpixman-1-0 amd64 0.34.0-1 [230 kB]\n",
      "Get:10 http://archive.ubuntu.com/ubuntu artful/main amd64 libxcb-render0 amd64 1.12-1ubuntu1 [14.8 kB]\n",
      "Get:11 http://archive.ubuntu.com/ubuntu artful/main amd64 libxcb-shm0 amd64 1.12-1ubuntu1 [5,482 B]\n",
      "Get:12 http://archive.ubuntu.com/ubuntu artful/main amd64 libcairo2 amd64 1.14.10-1ubuntu1 [558 kB]\n",
      "Get:13 http://archive.ubuntu.com/ubuntu artful/main amd64 libltdl7 amd64 2.4.6-2 [38.8 kB]\n",
      "Get:14 http://archive.ubuntu.com/ubuntu artful/main amd64 libthai-data all 0.1.26-3 [132 kB]\n",
      "Get:15 http://archive.ubuntu.com/ubuntu artful/main amd64 libdatrie1 amd64 0.2.10-5 [17.6 kB]\n",
      "Get:16 http://archive.ubuntu.com/ubuntu artful/main amd64 libthai0 amd64 0.1.26-3 [17.7 kB]\n",
      "Get:17 http://archive.ubuntu.com/ubuntu artful/main amd64 libpango-1.0-0 amd64 1.40.12-1 [152 kB]\n",
      "Get:18 http://archive.ubuntu.com/ubuntu artful/main amd64 libgraphite2-3 amd64 1.3.10-2 [78.3 kB]\n",
      "Get:19 http://archive.ubuntu.com/ubuntu artful/main amd64 libharfbuzz0b amd64 1.4.2-1 [211 kB]\n",
      "Get:20 http://archive.ubuntu.com/ubuntu artful/main amd64 libpangoft2-1.0-0 amd64 1.40.12-1 [33.2 kB]\n",
      "Get:21 http://archive.ubuntu.com/ubuntu artful/main amd64 libpangocairo-1.0-0 amd64 1.40.12-1 [20.8 kB]\n",
      "Get:22 http://archive.ubuntu.com/ubuntu artful/main amd64 libpathplan4 amd64 2.38.0-16ubuntu2 [22.6 kB]\n",
      "Get:23 http://archive.ubuntu.com/ubuntu artful/main amd64 libgvc6 amd64 2.38.0-16ubuntu2 [587 kB]\n",
      "Get:24 http://archive.ubuntu.com/ubuntu artful/main amd64 libgvpr2 amd64 2.38.0-16ubuntu2 [167 kB]\n",
      "Get:25 http://archive.ubuntu.com/ubuntu artful/main amd64 libxt6 amd64 1:1.1.5-1 [160 kB]\n",
      "Get:26 http://archive.ubuntu.com/ubuntu artful/main amd64 libxmu6 amd64 2:1.1.2-2 [46.0 kB]\n",
      "Get:27 http://archive.ubuntu.com/ubuntu artful/main amd64 libxaw7 amd64 2:1.0.13-1 [173 kB]\n",
      "Get:28 http://archive.ubuntu.com/ubuntu artful/main amd64 graphviz amd64 2.38.0-16ubuntu2 [710 kB]\n",
      "Fetched 4,122 kB in 1s (2,197 kB/s)\n",
      "Selecting previously unselected package fontconfig.\n",
      "(Reading database ... 18396 files and directories currently installed.)\n",
      "Preparing to unpack .../00-fontconfig_2.11.94-0ubuntu2_amd64.deb ...\n",
      "Unpacking fontconfig (2.11.94-0ubuntu2) ...\n",
      "Selecting previously unselected package libjbig0:amd64.\n",
      "Preparing to unpack .../01-libjbig0_2.1-3.1_amd64.deb ...\n",
      "Unpacking libjbig0:amd64 (2.1-3.1) ...\n",
      "Selecting previously unselected package libcdt5.\n",
      "Preparing to unpack .../02-libcdt5_2.38.0-16ubuntu2_amd64.deb ...\n",
      "Unpacking libcdt5 (2.38.0-16ubuntu2) ...\n",
      "Selecting previously unselected package libcgraph6.\n",
      "Preparing to unpack .../03-libcgraph6_2.38.0-16ubuntu2_amd64.deb ...\n",
      "Unpacking libcgraph6 (2.38.0-16ubuntu2) ...\n",
      "Selecting previously unselected package libtiff5:amd64.\n",
      "Preparing to unpack .../04-libtiff5_4.0.8-5ubuntu0.1_amd64.deb ...\n",
      "Unpacking libtiff5:amd64 (4.0.8-5ubuntu0.1) ...\n",
      "Selecting previously unselected package libwebp6:amd64.\n",
      "Preparing to unpack .../05-libwebp6_0.6.0-3_amd64.deb ...\n",
      "Unpacking libwebp6:amd64 (0.6.0-3) ...\n",
      "Selecting previously unselected package libxpm4:amd64.\n",
      "Preparing to unpack .../06-libxpm4_1%3a3.5.12-1_amd64.deb ...\n",
      "Unpacking libxpm4:amd64 (1:3.5.12-1) ...\n",
      "Selecting previously unselected package libgd3:amd64.\n",
      "Preparing to unpack .../07-libgd3_2.2.5-3_amd64.deb ...\n",
      "Unpacking libgd3:amd64 (2.2.5-3) ...\n",
      "Selecting previously unselected package libpixman-1-0:amd64.\n",
      "Preparing to unpack .../08-libpixman-1-0_0.34.0-1_amd64.deb ...\n",
      "Unpacking libpixman-1-0:amd64 (0.34.0-1) ...\n",
      "Selecting previously unselected package libxcb-render0:amd64.\n",
      "Preparing to unpack .../09-libxcb-render0_1.12-1ubuntu1_amd64.deb ...\n",
      "Unpacking libxcb-render0:amd64 (1.12-1ubuntu1) ...\n",
      "Selecting previously unselected package libxcb-shm0:amd64.\n",
      "Preparing to unpack .../10-libxcb-shm0_1.12-1ubuntu1_amd64.deb ...\n",
      "Unpacking libxcb-shm0:amd64 (1.12-1ubuntu1) ...\n",
      "Selecting previously unselected package libcairo2:amd64.\n",
      "Preparing to unpack .../11-libcairo2_1.14.10-1ubuntu1_amd64.deb ...\n",
      "Unpacking libcairo2:amd64 (1.14.10-1ubuntu1) ...\n",
      "Selecting previously unselected package libltdl7:amd64.\n",
      "Preparing to unpack .../12-libltdl7_2.4.6-2_amd64.deb ...\n",
      "Unpacking libltdl7:amd64 (2.4.6-2) ...\n",
      "Selecting previously unselected package libthai-data.\n",
      "Preparing to unpack .../13-libthai-data_0.1.26-3_all.deb ...\n",
      "Unpacking libthai-data (0.1.26-3) ...\n",
      "Selecting previously unselected package libdatrie1:amd64.\n",
      "Preparing to unpack .../14-libdatrie1_0.2.10-5_amd64.deb ...\n",
      "Unpacking libdatrie1:amd64 (0.2.10-5) ...\n",
      "Selecting previously unselected package libthai0:amd64.\n",
      "Preparing to unpack .../15-libthai0_0.1.26-3_amd64.deb ...\n",
      "Unpacking libthai0:amd64 (0.1.26-3) ...\n",
      "Selecting previously unselected package libpango-1.0-0:amd64.\n",
      "Preparing to unpack .../16-libpango-1.0-0_1.40.12-1_amd64.deb ...\n",
      "Unpacking libpango-1.0-0:amd64 (1.40.12-1) ...\n",
      "Selecting previously unselected package libgraphite2-3:amd64.\n",
      "Preparing to unpack .../17-libgraphite2-3_1.3.10-2_amd64.deb ...\n",
      "Unpacking libgraphite2-3:amd64 (1.3.10-2) ...\n",
      "Selecting previously unselected package libharfbuzz0b:amd64.\n",
      "Preparing to unpack .../18-libharfbuzz0b_1.4.2-1_amd64.deb ...\n",
      "Unpacking libharfbuzz0b:amd64 (1.4.2-1) ...\n",
      "Selecting previously unselected package libpangoft2-1.0-0:amd64.\n",
      "Preparing to unpack .../19-libpangoft2-1.0-0_1.40.12-1_amd64.deb ...\n",
      "Unpacking libpangoft2-1.0-0:amd64 (1.40.12-1) ...\n",
      "Selecting previously unselected package libpangocairo-1.0-0:amd64.\n",
      "Preparing to unpack .../20-libpangocairo-1.0-0_1.40.12-1_amd64.deb ...\n",
      "Unpacking libpangocairo-1.0-0:amd64 (1.40.12-1) ...\n",
      "Selecting previously unselected package libpathplan4.\n",
      "Preparing to unpack .../21-libpathplan4_2.38.0-16ubuntu2_amd64.deb ...\n",
      "Unpacking libpathplan4 (2.38.0-16ubuntu2) ...\n",
      "Selecting previously unselected package libgvc6.\n",
      "Preparing to unpack .../22-libgvc6_2.38.0-16ubuntu2_amd64.deb ...\n",
      "Unpacking libgvc6 (2.38.0-16ubuntu2) ...\n",
      "Selecting previously unselected package libgvpr2.\n",
      "Preparing to unpack .../23-libgvpr2_2.38.0-16ubuntu2_amd64.deb ...\n",
      "Unpacking libgvpr2 (2.38.0-16ubuntu2) ...\n",
      "Selecting previously unselected package libxt6:amd64.\n",
      "Preparing to unpack .../24-libxt6_1%3a1.1.5-1_amd64.deb ...\n",
      "Unpacking libxt6:amd64 (1:1.1.5-1) ...\n",
      "Selecting previously unselected package libxmu6:amd64.\n",
      "Preparing to unpack .../25-libxmu6_2%3a1.1.2-2_amd64.deb ...\n",
      "Unpacking libxmu6:amd64 (2:1.1.2-2) ...\n",
      "Selecting previously unselected package libxaw7:amd64.\n",
      "Preparing to unpack .../26-libxaw7_2%3a1.0.13-1_amd64.deb ...\n",
      "Unpacking libxaw7:amd64 (2:1.0.13-1) ...\n",
      "Selecting previously unselected package graphviz.\n",
      "Preparing to unpack .../27-graphviz_2.38.0-16ubuntu2_amd64.deb ...\n",
      "Unpacking graphviz (2.38.0-16ubuntu2) ...\n",
      "Setting up libpathplan4 (2.38.0-16ubuntu2) ...\n",
      "Setting up libxcb-render0:amd64 (1.12-1ubuntu1) ...\n",
      "Setting up libjbig0:amd64 (2.1-3.1) ...\n",
      "Setting up libdatrie1:amd64 (0.2.10-5) ...\n",
      "Setting up libtiff5:amd64 (4.0.8-5ubuntu0.1) ...\n",
      "Setting up libgraphite2-3:amd64 (1.3.10-2) ...\n",
      "Setting up libpixman-1-0:amd64 (0.34.0-1) ...\n",
      "Processing triggers for libc-bin (2.26-0ubuntu2.1) ...\n",
      "Setting up libltdl7:amd64 (2.4.6-2) ...\n",
      "Setting up libxcb-shm0:amd64 (1.12-1ubuntu1) ...\n",
      "Setting up libxpm4:amd64 (1:3.5.12-1) ...\n",
      "Setting up libxt6:amd64 (1:1.1.5-1) ...\n",
      "Setting up libthai-data (0.1.26-3) ...\n",
      "Setting up libcdt5 (2.38.0-16ubuntu2) ...\n",
      "Setting up fontconfig (2.11.94-0ubuntu2) ...\n",
      "Regenerating fonts cache... done.\n",
      "Setting up libcgraph6 (2.38.0-16ubuntu2) ...\n",
      "Setting up libwebp6:amd64 (0.6.0-3) ...\n",
      "Setting up libcairo2:amd64 (1.14.10-1ubuntu1) ...\n",
      "Setting up libgvpr2 (2.38.0-16ubuntu2) ...\n",
      "Setting up libgd3:amd64 (2.2.5-3) ...\n",
      "Setting up libharfbuzz0b:amd64 (1.4.2-1) ...\n",
      "Setting up libthai0:amd64 (0.1.26-3) ...\n",
      "Setting up libxmu6:amd64 (2:1.1.2-2) ...\n",
      "Setting up libpango-1.0-0:amd64 (1.40.12-1) ...\n",
      "Setting up libxaw7:amd64 (2:1.0.13-1) ...\n",
      "Setting up libpangoft2-1.0-0:amd64 (1.40.12-1) ...\n",
      "Setting up libpangocairo-1.0-0:amd64 (1.40.12-1) ...\n",
      "Setting up libgvc6 (2.38.0-16ubuntu2) ...\n",
      "Setting up graphviz (2.38.0-16ubuntu2) ...\n",
      "Processing triggers for libc-bin (2.26-0ubuntu2.1) ...\n",
      "Requirement already satisfied: pydot in /usr/local/lib/python2.7/dist-packages (1.2.4)\n",
      "Requirement already satisfied: pyparsing>=2.1.4 in /usr/local/lib/python2.7/dist-packages (from pydot) (2.2.0)\n"
     ]
    },
    {
     "data": {
      "image/png": "[encoded data removed]",
      "text/plain": [
       "<IPython.core.display.Image object>"
      ]
     },
     "execution_count": 27,
     "metadata": {
      "tags": []
     },
     "output_type": "execute_result"
    }
   ],
   "source": [
    "!apt-get install graphviz\n",
    "!pip install pydot\n",
    "import pydot\n",
    "import StringIO\n",
    "dot_data = StringIO.StringIO() \n",
    "tree.export_graphviz(clf, out_file=dot_data, feature_names=['age','sex','1st_class','2nd_class','3rd_class']) \n",
    "(graph,) = pydot.graph_from_dot_data(dot_data.getvalue()) \n",
    "graph.write_png('titanic.png') \n",
    "from IPython.core.display import Image \n",
    "Image(filename='titanic.png')"
   ]
  },
  {
   "cell_type": "code",
   "execution_count": 28,
   "metadata": {
    "colab": {
     "autoexec": {
      "startup": false,
      "wait_interval": 0
     },
     "base_uri": "https://localhost:8080/",
     "height": 51
    },
    "colab_type": "code",
    "collapsed": false,
    "executionInfo": {
     "elapsed": 1309,
     "status": "ok",
     "timestamp": 1529949362589,
     "user": {
      "displayName": "Abraar Syed",
      "photoUrl": "//lh5.googleusercontent.com/-ocaYyjrX3Z4/AAAAAAAAAAI/AAAAAAAAABQ/cPl8U19wmMg/s50-c-k-no/photo.jpg",
      "userId": "115904709554351828058"
     },
     "user_tz": -330
    },
    "id": "EW_oKUR1Fod5",
    "outputId": "9447dec5-f3b7-4976-bd08-5ff28364708e"
   },
   "outputs": [
    {
     "name": "stdout",
     "output_type": "stream",
     "text": [
      "Accuracy:0.838 \n",
      "\n"
     ]
    }
   ],
   "source": [
    "from sklearn import metrics\n",
    "def measure_performance(X,y,clf, show_accuracy=True, show_classification_report=True, show_confusion_matrix=True):\n",
    "    y_pred=clf.predict(X)   \n",
    "    if show_accuracy:\n",
    "        print \"Accuracy:{0:.3f}\".format(metrics.accuracy_score(y,y_pred)),\"\\n\"\n",
    "\n",
    "    if show_classification_report:\n",
    "        print \"Classification report\"\n",
    "        print metrics.classification_report(y,y_pred),\"\\n\"\n",
    "        \n",
    "    if show_confusion_matrix:\n",
    "        print \"Confusion matrix\"\n",
    "        print metrics.confusion_matrix(y,y_pred),\"\\n\"\n",
    "        \n",
    "measure_performance(X_train,y_train,clf, show_classification_report=False, show_confusion_matrix=False)"
   ]
  },
  {
   "cell_type": "code",
   "execution_count": 31,
   "metadata": {
    "colab": {
     "autoexec": {
      "startup": false,
      "wait_interval": 0
     },
     "base_uri": "https://localhost:8080/",
     "height": 34
    },
    "colab_type": "code",
    "collapsed": false,
    "executionInfo": {
     "elapsed": 1645,
     "status": "ok",
     "timestamp": 1529949418909,
     "user": {
      "displayName": "Abraar Syed",
      "photoUrl": "//lh5.googleusercontent.com/-ocaYyjrX3Z4/AAAAAAAAAAI/AAAAAAAAABQ/cPl8U19wmMg/s50-c-k-no/photo.jpg",
      "userId": "115904709554351828058"
     },
     "user_tz": -330
    },
    "id": "EZVOf6UqFsy5",
    "outputId": "8afd7b41-f951-426b-8bdd-8797e9dcb64f"
   },
   "outputs": [
    {
     "name": "stdout",
     "output_type": "stream",
     "text": [
      "Mean score: 0.837 (+/-0.012)\n"
     ]
    }
   ],
   "source": [
    "from sklearn.cross_validation import cross_val_score, LeaveOneOut\n",
    "from scipy.stats import sem\n",
    "\n",
    "def loo_cv(X_train,y_train,clf):\n",
    "    # Perform Leave-One-Out cross validation\n",
    "    # We are preforming 1313 classifications!\n",
    "    loo = LeaveOneOut(X_train[:].shape[0])\n",
    "    scores=np.zeros(X_train[:].shape[0])\n",
    "    for train_index,test_index in loo:\n",
    "        X_train_cv, X_test_cv= X_train[train_index], X_train[test_index]\n",
    "        y_train_cv, y_test_cv= y_train[train_index], y_train[test_index]\n",
    "        clf = clf.fit(X_train_cv,y_train_cv)\n",
    "        y_pred=clf.predict(X_test_cv)\n",
    "        scores[test_index]=metrics.accuracy_score(y_test_cv.astype(int), y_pred.astype(int))\n",
    "    print (\"Mean score: {0:.3f} (+/-{1:.3f})\").format(np.mean(scores), sem(scores))\n",
    "    \n",
    "loo_cv(X_train, y_train,clf)"
   ]
  },
  {
   "cell_type": "code",
   "execution_count": 32,
   "metadata": {
    "colab": {
     "autoexec": {
      "startup": false,
      "wait_interval": 0
     },
     "base_uri": "https://localhost:8080/",
     "height": 34
    },
    "colab_type": "code",
    "collapsed": false,
    "executionInfo": {
     "elapsed": 23755,
     "status": "ok",
     "timestamp": 1529949478673,
     "user": {
      "displayName": "Abraar Syed",
      "photoUrl": "//lh5.googleusercontent.com/-ocaYyjrX3Z4/AAAAAAAAAAI/AAAAAAAAABQ/cPl8U19wmMg/s50-c-k-no/photo.jpg",
      "userId": "115904709554351828058"
     },
     "user_tz": -330
    },
    "id": "WwXGAT7XF_jQ",
    "outputId": "991cb0d9-715c-4f07-d914-22e4a962fc3f"
   },
   "outputs": [
    {
     "name": "stdout",
     "output_type": "stream",
     "text": [
      "Mean score: 0.817 (+/-0.012)\n"
     ]
    }
   ],
   "source": [
    "from sklearn.ensemble import RandomForestClassifier\n",
    "clf = RandomForestClassifier(n_estimators=10,random_state=33)\n",
    "clf = clf.fit(X_train,y_train)\n",
    "loo_cv(X_train,y_train,clf)"
   ]
  },
  {
   "cell_type": "code",
   "execution_count": 34,
   "metadata": {
    "colab": {
     "autoexec": {
      "startup": false,
      "wait_interval": 0
     },
     "base_uri": "https://localhost:8080/",
     "height": 272
    },
    "colab_type": "code",
    "collapsed": false,
    "executionInfo": {
     "elapsed": 1150,
     "status": "ok",
     "timestamp": 1529949509535,
     "user": {
      "displayName": "Abraar Syed",
      "photoUrl": "//lh5.googleusercontent.com/-ocaYyjrX3Z4/AAAAAAAAAAI/AAAAAAAAABQ/cPl8U19wmMg/s50-c-k-no/photo.jpg",
      "userId": "115904709554351828058"
     },
     "user_tz": -330
    },
    "id": "3GGegYlAGDNo",
    "outputId": "70cf78ae-5bb6-494e-8d3f-6b542d9a306b"
   },
   "outputs": [
    {
     "name": "stdout",
     "output_type": "stream",
     "text": [
      "Accuracy:0.793 \n",
      "\n",
      "Classification report\n",
      "             precision    recall  f1-score   support\n",
      "\n",
      "        0.0       0.77      0.96      0.85       202\n",
      "        1.0       0.88      0.54      0.67       127\n",
      "\n",
      "avg / total       0.81      0.79      0.78       329\n",
      "\n",
      "\n",
      "Confusion matrix\n",
      "[[193   9]\n",
      " [ 59  68]] \n",
      "\n"
     ]
    }
   ],
   "source": [
    "clf_dt=tree.DecisionTreeClassifier(criterion='entropy', max_depth=3,min_samples_leaf=5)\n",
    "clf_dt.fit(X_train,y_train)\n",
    "measure_performance(X_test,y_test,clf_dt)"
   ]
  }
 ],
 "metadata": {
  "colab": {
   "collapsed_sections": [],
   "default_view": {},
   "name": "Decision_Tree_Titanic_Dataset.ipynb",
   "provenance": [],
   "version": "0.3.2",
   "views": {}
  },
  "kernelspec": {
   "display_name": "Python 2",
   "language": "python",
   "name": "python2"
  },
  "language_info": {
   "codemirror_mode": {
    "name": "ipython",
    "version": 2
   },
   "file_extension": ".py",
   "mimetype": "text/x-python",
   "name": "python",
   "nbconvert_exporter": "python",
   "pygments_lexer": "ipython2",
   "version": "2.7.6"
  }
 },
 "nbformat": 4,
 "nbformat_minor": 0
}
